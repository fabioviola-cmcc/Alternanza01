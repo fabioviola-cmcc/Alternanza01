{
 "cells": [
  {
   "cell_type": "markdown",
   "id": "0e2d9755",
   "metadata": {},
   "source": [
    "## 1) Introduction"
   ]
  },
  {
   "cell_type": "markdown",
   "id": "5c12bd42",
   "metadata": {},
   "source": [
    "The objective of this exercise is to use the CMEMS BS-MFC model products to visualize the main physical fields in the Black Sea.\n",
    "\n",
    "In particular, you will display:\n",
    "\n",
    "- horizontal maps of the different 2D and 3D variables, the latter also at different depths avaraged on one month (March 2020)\n",
    "- vertical sections of temperature, salinity and density along a transect in the Black Sea highlighting the vertical structure of these fields\n",
    "- timeseries of temperature, salinity, currents (intensity and direction) in a given location using using hourly and daily forecast data\n",
    "- maps for temperature, salinity and currents: maximum/minimum and standard deviation on the Western basin using reanalysis products\n"
   ]
  },
  {
   "cell_type": "markdown",
   "id": "e2fac9a4",
   "metadata": {},
   "source": [
    "## 2) About the data"
   ]
  },
  {
   "cell_type": "markdown",
   "id": "7e2b7b66",
   "metadata": {},
   "source": [
    "## 3) Required python modules"
   ]
  },
  {
   "cell_type": "markdown",
   "id": "ea7dd3d3",
   "metadata": {},
   "source": [
    "### Install the needed Python modules\n",
    "\n",
    "Requirement: Python version 3.7\n",
    "\n",
    "Check your Python version:\n",
    "\n",
    "```\n",
    "!python --version\n",
    "```\n",
    "\n",
    "If needed you can install the right Python version in this way:\n",
    "\n",
    "```\n",
    "conda install python=3.7\n",
    "```\n",
    "\n",
    "If you are using the standard Anaconda installation, you can install the modules executing the following command in a new cell:\n",
    "\n",
    "```\n",
    "conda install motuclient numpy xarray matplotlib basemap netcdf4 basemap-data-hires dask\n",
    "```"
   ]
  },
  {
   "cell_type": "code",
   "execution_count": null,
   "id": "9a01f5a9",
   "metadata": {},
   "outputs": [],
   "source": []
  },
  {
   "cell_type": "markdown",
   "id": "f55ceca0",
   "metadata": {},
   "source": [
    "## 4) Access input data"
   ]
  }
 ],
 "metadata": {
  "kernelspec": {
   "display_name": "Python 3 (ipykernel)",
   "language": "python",
   "name": "python3"
  },
  "language_info": {
   "codemirror_mode": {
    "name": "ipython",
    "version": 3
   },
   "file_extension": ".py",
   "mimetype": "text/x-python",
   "name": "python",
   "nbconvert_exporter": "python",
   "pygments_lexer": "ipython3",
   "version": "3.9.12"
  }
 },
 "nbformat": 4,
 "nbformat_minor": 5
}
